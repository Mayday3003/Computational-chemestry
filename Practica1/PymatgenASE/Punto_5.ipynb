{
  "nbformat": 4,
  "nbformat_minor": 0,
  "metadata": {
    "colab": {
      "provenance": []
    },
    "kernelspec": {
      "name": "python3",
      "display_name": "Python 3"
    },
    "language_info": {
      "name": "python"
    }
  },
  "cells": [
    {
      "cell_type": "code",
      "source": [
        "#Instalación de ase por medio del comando pip y usando ! para la instalación en colab\n",
        "!pip install ase"
      ],
      "metadata": {
        "colab": {
          "base_uri": "https://localhost:8080/"
        },
        "id": "lXmTX0D_T_wf",
        "outputId": "460739d0-64fb-4255-b3b8-b3853af0020a"
      },
      "execution_count": null,
      "outputs": [
        {
          "output_type": "stream",
          "name": "stdout",
          "text": [
            "Collecting ase\n",
            "  Downloading ase-3.26.0-py3-none-any.whl.metadata (4.1 kB)\n",
            "Requirement already satisfied: numpy>=1.19.5 in /usr/local/lib/python3.12/dist-packages (from ase) (2.0.2)\n",
            "Requirement already satisfied: scipy>=1.6.0 in /usr/local/lib/python3.12/dist-packages (from ase) (1.16.1)\n",
            "Requirement already satisfied: matplotlib>=3.3.4 in /usr/local/lib/python3.12/dist-packages (from ase) (3.10.0)\n",
            "Requirement already satisfied: contourpy>=1.0.1 in /usr/local/lib/python3.12/dist-packages (from matplotlib>=3.3.4->ase) (1.3.3)\n",
            "Requirement already satisfied: cycler>=0.10 in /usr/local/lib/python3.12/dist-packages (from matplotlib>=3.3.4->ase) (0.12.1)\n",
            "Requirement already satisfied: fonttools>=4.22.0 in /usr/local/lib/python3.12/dist-packages (from matplotlib>=3.3.4->ase) (4.59.1)\n",
            "Requirement already satisfied: kiwisolver>=1.3.1 in /usr/local/lib/python3.12/dist-packages (from matplotlib>=3.3.4->ase) (1.4.9)\n",
            "Requirement already satisfied: packaging>=20.0 in /usr/local/lib/python3.12/dist-packages (from matplotlib>=3.3.4->ase) (25.0)\n",
            "Requirement already satisfied: pillow>=8 in /usr/local/lib/python3.12/dist-packages (from matplotlib>=3.3.4->ase) (11.3.0)\n",
            "Requirement already satisfied: pyparsing>=2.3.1 in /usr/local/lib/python3.12/dist-packages (from matplotlib>=3.3.4->ase) (3.2.3)\n",
            "Requirement already satisfied: python-dateutil>=2.7 in /usr/local/lib/python3.12/dist-packages (from matplotlib>=3.3.4->ase) (2.9.0.post0)\n",
            "Requirement already satisfied: six>=1.5 in /usr/local/lib/python3.12/dist-packages (from python-dateutil>=2.7->matplotlib>=3.3.4->ase) (1.17.0)\n",
            "Downloading ase-3.26.0-py3-none-any.whl (2.9 MB)\n",
            "\u001b[2K   \u001b[90m━━━━━━━━━━━━━━━━━━━━━━━━━━━━━━━━━━━━━━━━\u001b[0m \u001b[32m2.9/2.9 MB\u001b[0m \u001b[31m23.7 MB/s\u001b[0m eta \u001b[36m0:00:00\u001b[0m\n",
            "\u001b[?25hInstalling collected packages: ase\n",
            "Successfully installed ase-3.26.0\n"
          ]
        }
      ]
    },
    {
      "cell_type": "code",
      "execution_count": null,
      "metadata": {
        "id": "quTd2epeTsoc"
      },
      "outputs": [],
      "source": [
        "#Importación de módulo para la \"construcción\" de moléculas\n",
        "from ase.build import molecule\n",
        "#Importación de módulo para la visualización\n",
        "from ase.visualize import view\n",
        "#Importación de módulo para la exportar e importar\n",
        "from ase.io import write, read"
      ]
    },
    {
      "cell_type": "code",
      "source": [
        "\n",
        "# Creando la instancia agua, usando la clase molecule de ase\n",
        "'''\n",
        "El 'H2O' indica la molécula a graficar y cell se refiere al tamaño tridimencional\n",
        "donde estára la molecula en Å (Armstrong)\n",
        "'''\n",
        "H2O = molecule('H2O', cell=[5,5,5])\n",
        "\n",
        "\n",
        "\n",
        "# se utiliza el método de la instancia molecule para centrar el objeto\n",
        "H2O.center()\n",
        "\n",
        "'''\n",
        "Este es el método para visualizar, en este caso se le pasa como parámetro la\n",
        "molécula H2O que es lo que se mostrará en pantalla, el viewer en particular es una distinción\n",
        "para poder graficar en google colab\n",
        "'''\n",
        "view(H2O,viewer='x3d')"
      ],
      "metadata": {
        "colab": {
          "base_uri": "https://localhost:8080/",
          "height": 317
        },
        "id": "0ZnM4jFrUZ0D",
        "outputId": "9c41c1b1-a5b3-4a5c-8de3-478c80f0cb53"
      },
      "execution_count": null,
      "outputs": [
        {
          "output_type": "execute_result",
          "data": {
            "text/plain": [
              "<IPython.core.display.HTML object>"
            ],
            "text/html": [
              "<html>\n",
              "    <head>\n",
              "        <title>ASE atomic visualization</title>\n",
              "        <link rel=\"stylesheet\" type=\"text/css\"             href=\"https://www.x3dom.org/release/x3dom.css\"></link>\n",
              "        <script type=\"text/javascript\"             src=\"https://www.x3dom.org/release/x3dom.js\"></script>\n",
              "    </head>\n",
              "    <body>\n",
              "        <X3D width=\"400px\"; height=\"300px\";>\n",
              "\n",
              "<!--Inserting Generated X3D Scene-->\n",
              "<scene>\n",
              "  <viewpoint position=\"0 0 10.0\">\n",
              "    <group/>\n",
              "  </viewpoint>\n",
              "  <transform translation=\"-2.5 -2.5 -2.5\">\n",
              "    <group>\n",
              "      <group>\n",
              "        <transform translation=\"0 0 0\">\n",
              "          <shape>\n",
              "            <appearance>\n",
              "              <material diffuseColor=\"0 0 0\"/>\n",
              "            </appearance>\n",
              "            <lineset vertexCount=\"5\">\n",
              "              <coordinate point=\"0 0 0 5.0 0.0 0.0 5.0 5.0 0.0 0.0 5.0 0.0 0 0 0\"/>\n",
              "            </lineset>\n",
              "          </shape>\n",
              "        </transform>\n",
              "        <transform translation=\"0.0 0.0 5.0\">\n",
              "          <shape>\n",
              "            <appearance>\n",
              "              <material diffuseColor=\"0 0 0\"/>\n",
              "            </appearance>\n",
              "            <lineset vertexCount=\"5\">\n",
              "              <coordinate point=\"0 0 0 5.0 0.0 0.0 5.0 5.0 0.0 0.0 5.0 0.0 0 0 0\"/>\n",
              "            </lineset>\n",
              "          </shape>\n",
              "        </transform>\n",
              "        <transform translation=\"0 0 0\">\n",
              "          <shape>\n",
              "            <appearance>\n",
              "              <material diffuseColor=\"0 0 0\"/>\n",
              "            </appearance>\n",
              "            <lineset vertexCount=\"5\">\n",
              "              <coordinate point=\"0 0 0 5.0 0.0 0.0 5.0 0.0 5.0 0.0 0.0 5.0 0 0 0\"/>\n",
              "            </lineset>\n",
              "          </shape>\n",
              "        </transform>\n",
              "        <transform translation=\"0.0 5.0 0.0\">\n",
              "          <shape>\n",
              "            <appearance>\n",
              "              <material diffuseColor=\"0 0 0\"/>\n",
              "            </appearance>\n",
              "            <lineset vertexCount=\"5\">\n",
              "              <coordinate point=\"0 0 0 5.0 0.0 0.0 5.0 0.0 5.0 0.0 0.0 5.0 0 0 0\"/>\n",
              "            </lineset>\n",
              "          </shape>\n",
              "        </transform>\n",
              "      </group>\n",
              "      <group>\n",
              "        <transform translation=\"2.5 2.5 2.7981545\">\n",
              "          <shape>\n",
              "            <appearance>\n",
              "              <material diffuseColor=\"1.0 0.051 0.051\"/>\n",
              "            </appearance>\n",
              "            <sphere radius=\"0.66\"/>\n",
              "          </shape>\n",
              "        </transform>\n",
              "        <transform translation=\"2.5 3.263239 2.2018455\">\n",
              "          <shape>\n",
              "            <appearance>\n",
              "              <material diffuseColor=\"1.0 1.0 1.0\"/>\n",
              "            </appearance>\n",
              "            <sphere radius=\"0.31\"/>\n",
              "          </shape>\n",
              "        </transform>\n",
              "        <transform translation=\"2.5 1.736761 2.2018455\">\n",
              "          <shape>\n",
              "            <appearance>\n",
              "              <material diffuseColor=\"1.0 1.0 1.0\"/>\n",
              "            </appearance>\n",
              "            <sphere radius=\"0.31\"/>\n",
              "          </shape>\n",
              "        </transform>\n",
              "      </group>\n",
              "    </group>\n",
              "  </transform>\n",
              "</scene>\n",
              "<!--End of Inserted Scene-->\n",
              "\n",
              "        </X3D>\n",
              "    </body>\n",
              "</html>\n",
              "\n"
            ]
          },
          "metadata": {},
          "execution_count": 9
        }
      ]
    }
  ]
}