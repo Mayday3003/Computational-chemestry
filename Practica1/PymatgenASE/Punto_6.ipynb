{
  "nbformat": 4,
  "nbformat_minor": 0,
  "metadata": {
    "colab": {
      "provenance": []
    },
    "kernelspec": {
      "name": "python3",
      "display_name": "Python 3"
    },
    "language_info": {
      "name": "python"
    }
  },
  "cells": [
    {
      "cell_type": "code",
      "execution_count": 3,
      "metadata": {
        "colab": {
          "base_uri": "https://localhost:8080/"
        },
        "collapsed": true,
        "id": "Nh_lx_JxXMs_",
        "outputId": "154a2f63-86b1-4022-b21c-ff4e6a20a789"
      },
      "outputs": [
        {
          "output_type": "stream",
          "name": "stdout",
          "text": [
            "Collecting pymatgen\n",
            "  Downloading pymatgen-2025.6.14-cp312-cp312-manylinux_2_17_x86_64.manylinux2014_x86_64.whl.metadata (13 kB)\n",
            "Collecting bibtexparser>=1.4.0 (from pymatgen)\n",
            "  Downloading bibtexparser-1.4.3.tar.gz (55 kB)\n",
            "\u001b[2K     \u001b[90m━━━━━━━━━━━━━━━━━━━━━━━━━━━━━━━━━━━━━━━━\u001b[0m \u001b[32m55.6/55.6 kB\u001b[0m \u001b[31m1.0 MB/s\u001b[0m eta \u001b[36m0:00:00\u001b[0m\n",
            "\u001b[?25h  Preparing metadata (setup.py) ... \u001b[?25l\u001b[?25hdone\n",
            "Requirement already satisfied: joblib>=1 in /usr/local/lib/python3.12/dist-packages (from pymatgen) (1.5.1)\n",
            "Requirement already satisfied: matplotlib>=3.8 in /usr/local/lib/python3.12/dist-packages (from pymatgen) (3.10.0)\n",
            "Collecting monty>=2025.1.9 (from pymatgen)\n",
            "  Downloading monty-2025.3.3-py3-none-any.whl.metadata (3.6 kB)\n",
            "Requirement already satisfied: networkx>=2.7 in /usr/local/lib/python3.12/dist-packages (from pymatgen) (3.5)\n",
            "Requirement already satisfied: numpy<3,>=1.25.0 in /usr/local/lib/python3.12/dist-packages (from pymatgen) (2.0.2)\n",
            "Requirement already satisfied: orjson<4,>=3.10 in /usr/local/lib/python3.12/dist-packages (from pymatgen) (3.11.2)\n",
            "Collecting palettable>=3.3.3 (from pymatgen)\n",
            "  Downloading palettable-3.3.3-py2.py3-none-any.whl.metadata (3.3 kB)\n",
            "Requirement already satisfied: pandas>=2 in /usr/local/lib/python3.12/dist-packages (from pymatgen) (2.2.2)\n",
            "Requirement already satisfied: plotly>=5.0.0 in /usr/local/lib/python3.12/dist-packages (from pymatgen) (5.24.1)\n",
            "Requirement already satisfied: requests>=2.32 in /usr/local/lib/python3.12/dist-packages (from pymatgen) (2.32.4)\n",
            "Collecting ruamel.yaml>=0.17.0 (from pymatgen)\n",
            "  Downloading ruamel.yaml-0.18.15-py3-none-any.whl.metadata (25 kB)\n",
            "Requirement already satisfied: scipy>=1.13.0 in /usr/local/lib/python3.12/dist-packages (from pymatgen) (1.16.1)\n",
            "Collecting spglib>=2.5 (from pymatgen)\n",
            "  Downloading spglib-2.6.0-cp312-cp312-manylinux_2_17_x86_64.manylinux2014_x86_64.whl.metadata (4.2 kB)\n",
            "Requirement already satisfied: sympy>=1.3 in /usr/local/lib/python3.12/dist-packages (from pymatgen) (1.13.3)\n",
            "Requirement already satisfied: tabulate>=0.9 in /usr/local/lib/python3.12/dist-packages (from pymatgen) (0.9.0)\n",
            "Requirement already satisfied: tqdm>=4.60 in /usr/local/lib/python3.12/dist-packages (from pymatgen) (4.67.1)\n",
            "Collecting uncertainties>=3.1.4 (from pymatgen)\n",
            "  Downloading uncertainties-3.2.3-py3-none-any.whl.metadata (7.0 kB)\n",
            "Requirement already satisfied: pyparsing>=2.0.3 in /usr/local/lib/python3.12/dist-packages (from bibtexparser>=1.4.0->pymatgen) (3.2.3)\n",
            "Requirement already satisfied: contourpy>=1.0.1 in /usr/local/lib/python3.12/dist-packages (from matplotlib>=3.8->pymatgen) (1.3.3)\n",
            "Requirement already satisfied: cycler>=0.10 in /usr/local/lib/python3.12/dist-packages (from matplotlib>=3.8->pymatgen) (0.12.1)\n",
            "Requirement already satisfied: fonttools>=4.22.0 in /usr/local/lib/python3.12/dist-packages (from matplotlib>=3.8->pymatgen) (4.59.1)\n",
            "Requirement already satisfied: kiwisolver>=1.3.1 in /usr/local/lib/python3.12/dist-packages (from matplotlib>=3.8->pymatgen) (1.4.9)\n",
            "Requirement already satisfied: packaging>=20.0 in /usr/local/lib/python3.12/dist-packages (from matplotlib>=3.8->pymatgen) (25.0)\n",
            "Requirement already satisfied: pillow>=8 in /usr/local/lib/python3.12/dist-packages (from matplotlib>=3.8->pymatgen) (11.3.0)\n",
            "Requirement already satisfied: python-dateutil>=2.7 in /usr/local/lib/python3.12/dist-packages (from matplotlib>=3.8->pymatgen) (2.9.0.post0)\n",
            "Requirement already satisfied: pytz>=2020.1 in /usr/local/lib/python3.12/dist-packages (from pandas>=2->pymatgen) (2025.2)\n",
            "Requirement already satisfied: tzdata>=2022.7 in /usr/local/lib/python3.12/dist-packages (from pandas>=2->pymatgen) (2025.2)\n",
            "Requirement already satisfied: tenacity>=6.2.0 in /usr/local/lib/python3.12/dist-packages (from plotly>=5.0.0->pymatgen) (8.5.0)\n",
            "Requirement already satisfied: charset_normalizer<4,>=2 in /usr/local/lib/python3.12/dist-packages (from requests>=2.32->pymatgen) (3.4.3)\n",
            "Requirement already satisfied: idna<4,>=2.5 in /usr/local/lib/python3.12/dist-packages (from requests>=2.32->pymatgen) (3.10)\n",
            "Requirement already satisfied: urllib3<3,>=1.21.1 in /usr/local/lib/python3.12/dist-packages (from requests>=2.32->pymatgen) (2.5.0)\n",
            "Requirement already satisfied: certifi>=2017.4.17 in /usr/local/lib/python3.12/dist-packages (from requests>=2.32->pymatgen) (2025.8.3)\n",
            "Collecting ruamel.yaml.clib>=0.2.7 (from ruamel.yaml>=0.17.0->pymatgen)\n",
            "  Downloading ruamel.yaml.clib-0.2.12-cp312-cp312-manylinux_2_17_x86_64.manylinux2014_x86_64.whl.metadata (2.7 kB)\n",
            "Requirement already satisfied: typing-extensions>=4.9.0 in /usr/local/lib/python3.12/dist-packages (from spglib>=2.5->pymatgen) (4.14.1)\n",
            "Requirement already satisfied: mpmath<1.4,>=1.1.0 in /usr/local/lib/python3.12/dist-packages (from sympy>=1.3->pymatgen) (1.3.0)\n",
            "Requirement already satisfied: six>=1.5 in /usr/local/lib/python3.12/dist-packages (from python-dateutil>=2.7->matplotlib>=3.8->pymatgen) (1.17.0)\n",
            "Downloading pymatgen-2025.6.14-cp312-cp312-manylinux_2_17_x86_64.manylinux2014_x86_64.whl (5.1 MB)\n",
            "\u001b[2K   \u001b[90m━━━━━━━━━━━━━━━━━━━━━━━━━━━━━━━━━━━━━━━━\u001b[0m \u001b[32m5.1/5.1 MB\u001b[0m \u001b[31m12.2 MB/s\u001b[0m eta \u001b[36m0:00:00\u001b[0m\n",
            "\u001b[?25hDownloading monty-2025.3.3-py3-none-any.whl (51 kB)\n",
            "\u001b[2K   \u001b[90m━━━━━━━━━━━━━━━━━━━━━━━━━━━━━━━━━━━━━━━━\u001b[0m \u001b[32m51.9/51.9 kB\u001b[0m \u001b[31m3.4 MB/s\u001b[0m eta \u001b[36m0:00:00\u001b[0m\n",
            "\u001b[?25hDownloading palettable-3.3.3-py2.py3-none-any.whl (332 kB)\n",
            "\u001b[2K   \u001b[90m━━━━━━━━━━━━━━━━━━━━━━━━━━━━━━━━━━━━━━━━\u001b[0m \u001b[32m332.3/332.3 kB\u001b[0m \u001b[31m26.0 MB/s\u001b[0m eta \u001b[36m0:00:00\u001b[0m\n",
            "\u001b[?25hDownloading ruamel.yaml-0.18.15-py3-none-any.whl (119 kB)\n",
            "\u001b[2K   \u001b[90m━━━━━━━━━━━━━━━━━━━━━━━━━━━━━━━━━━━━━━━━\u001b[0m \u001b[32m119.7/119.7 kB\u001b[0m \u001b[31m10.1 MB/s\u001b[0m eta \u001b[36m0:00:00\u001b[0m\n",
            "\u001b[?25hDownloading spglib-2.6.0-cp312-cp312-manylinux_2_17_x86_64.manylinux2014_x86_64.whl (809 kB)\n",
            "\u001b[2K   \u001b[90m━━━━━━━━━━━━━━━━━━━━━━━━━━━━━━━━━━━━━━━━\u001b[0m \u001b[32m809.1/809.1 kB\u001b[0m \u001b[31m50.7 MB/s\u001b[0m eta \u001b[36m0:00:00\u001b[0m\n",
            "\u001b[?25hDownloading uncertainties-3.2.3-py3-none-any.whl (60 kB)\n",
            "\u001b[2K   \u001b[90m━━━━━━━━━━━━━━━━━━━━━━━━━━━━━━━━━━━━━━━━\u001b[0m \u001b[32m60.1/60.1 kB\u001b[0m \u001b[31m4.5 MB/s\u001b[0m eta \u001b[36m0:00:00\u001b[0m\n",
            "\u001b[?25hDownloading ruamel.yaml.clib-0.2.12-cp312-cp312-manylinux_2_17_x86_64.manylinux2014_x86_64.whl (754 kB)\n",
            "\u001b[2K   \u001b[90m━━━━━━━━━━━━━━━━━━━━━━━━━━━━━━━━━━━━━━━━\u001b[0m \u001b[32m754.1/754.1 kB\u001b[0m \u001b[31m18.9 MB/s\u001b[0m eta \u001b[36m0:00:00\u001b[0m\n",
            "\u001b[?25hBuilding wheels for collected packages: bibtexparser\n",
            "  Building wheel for bibtexparser (setup.py) ... \u001b[?25l\u001b[?25hdone\n",
            "  Created wheel for bibtexparser: filename=bibtexparser-1.4.3-py3-none-any.whl size=43549 sha256=e6dca5c22ef6a0ad389acde5aeeeecf14aa537ba83f811d3240f5b928661336b\n",
            "  Stored in directory: /root/.cache/pip/wheels/1f/7d/e9/1ff2509f13767a55df1279744adfb757f4ab94b2cbe761f56a\n",
            "Successfully built bibtexparser\n",
            "Installing collected packages: uncertainties, spglib, ruamel.yaml.clib, palettable, bibtexparser, ruamel.yaml, monty, pymatgen\n",
            "Successfully installed bibtexparser-1.4.3 monty-2025.3.3 palettable-3.3.3 pymatgen-2025.6.14 ruamel.yaml-0.18.15 ruamel.yaml.clib-0.2.12 spglib-2.6.0 uncertainties-3.2.3\n",
            "Collecting ase\n",
            "  Downloading ase-3.26.0-py3-none-any.whl.metadata (4.1 kB)\n",
            "Requirement already satisfied: numpy>=1.19.5 in /usr/local/lib/python3.12/dist-packages (from ase) (2.0.2)\n",
            "Requirement already satisfied: scipy>=1.6.0 in /usr/local/lib/python3.12/dist-packages (from ase) (1.16.1)\n",
            "Requirement already satisfied: matplotlib>=3.3.4 in /usr/local/lib/python3.12/dist-packages (from ase) (3.10.0)\n",
            "Requirement already satisfied: contourpy>=1.0.1 in /usr/local/lib/python3.12/dist-packages (from matplotlib>=3.3.4->ase) (1.3.3)\n",
            "Requirement already satisfied: cycler>=0.10 in /usr/local/lib/python3.12/dist-packages (from matplotlib>=3.3.4->ase) (0.12.1)\n",
            "Requirement already satisfied: fonttools>=4.22.0 in /usr/local/lib/python3.12/dist-packages (from matplotlib>=3.3.4->ase) (4.59.1)\n",
            "Requirement already satisfied: kiwisolver>=1.3.1 in /usr/local/lib/python3.12/dist-packages (from matplotlib>=3.3.4->ase) (1.4.9)\n",
            "Requirement already satisfied: packaging>=20.0 in /usr/local/lib/python3.12/dist-packages (from matplotlib>=3.3.4->ase) (25.0)\n",
            "Requirement already satisfied: pillow>=8 in /usr/local/lib/python3.12/dist-packages (from matplotlib>=3.3.4->ase) (11.3.0)\n",
            "Requirement already satisfied: pyparsing>=2.3.1 in /usr/local/lib/python3.12/dist-packages (from matplotlib>=3.3.4->ase) (3.2.3)\n",
            "Requirement already satisfied: python-dateutil>=2.7 in /usr/local/lib/python3.12/dist-packages (from matplotlib>=3.3.4->ase) (2.9.0.post0)\n",
            "Requirement already satisfied: six>=1.5 in /usr/local/lib/python3.12/dist-packages (from python-dateutil>=2.7->matplotlib>=3.3.4->ase) (1.17.0)\n",
            "Downloading ase-3.26.0-py3-none-any.whl (2.9 MB)\n",
            "\u001b[2K   \u001b[90m━━━━━━━━━━━━━━━━━━━━━━━━━━━━━━━━━━━━━━━━\u001b[0m \u001b[32m2.9/2.9 MB\u001b[0m \u001b[31m13.4 MB/s\u001b[0m eta \u001b[36m0:00:00\u001b[0m\n",
            "\u001b[?25hInstalling collected packages: ase\n",
            "Successfully installed ase-3.26.0\n"
          ]
        }
      ],
      "source": [
        "#Instalación de pymatgen y ase por medio del comando pip y usando ! para la instalación en colab\n",
        "!pip install pymatgen\n",
        "!pip install ase"
      ]
    },
    {
      "cell_type": "code",
      "source": [
        "'''Importación módulo para usar Materials Project rester, es decir la API de Materials projects para poder conectarse a su base de datos\n",
        "y a toda la información que ofrece al usuarip por medio de MPRester'''\n",
        "from pymatgen.ext.matproj import MPRester"
      ],
      "metadata": {
        "id": "Q2n5JAAzX5zE"
      },
      "execution_count": 4,
      "outputs": []
    },
    {
      "cell_type": "code",
      "source": [
        "'''\n",
        "Acá lo que hacemos es crear una instancia de MPRester con nuestro API key único\n",
        "que es la forma en la que Materials Projects\n",
        "'''\n",
        "material_project_rester = MPRester('FHqPoi7BeE4MqQ5eUt9csKC55KgoiiCZ')\n",
        "\n",
        "'''\n",
        "Acá por medio de la clase MPRester que creamos con nuestro API Key, lo que hacemos es\n",
        "traernos desde Materials Project la estructura por medio del id previamente consultado\n",
        "en la página de MP, creando automaticamente una instancia de la clase Structure\n",
        "'''\n",
        "Ag2S2O7 = material_project_rester.get_structure_by_material_id('mp-1192057')\n",
        "\n",
        "'''\n",
        "El print nos sirve para ver algunas de las carácterísticas del cristal, haciendo uso\n",
        "del método interno de python __repr__ o __str__, esto permitiendo sobrecargar el\n",
        "operador mostrando lo que los administradores de MPRester consideran relevante\n",
        "'''\n",
        "print(Ag2S2O7)\n",
        "\n",
        "#Método utilizado para guardar la molécula en el formato que se prefiera, en este caso .cif\n",
        "Ag2S2O7.to(filename=\"Ag2S2O7.cif\")"
      ],
      "metadata": {
        "id": "04IOoLhGayL4",
        "colab": {
          "base_uri": "https://localhost:8080/",
          "height": 786
        },
        "outputId": "64baa303-ff95-459d-cec0-65e18991d5a4"
      },
      "execution_count": 12,
      "outputs": [
        {
          "output_type": "stream",
          "name": "stdout",
          "text": [
            "Full Formula (Ag4 S4 O14)\n",
            "Reduced Formula: Ag2S2O7\n",
            "abc   :   6.806502   6.748843   6.908300\n",
            "angles:  63.535507  87.045595  85.085869\n",
            "pbc   :       True       True       True\n",
            "Sites (22)\n",
            "  #  SP           a         b         c    magmom\n",
            "---  ----  --------  --------  --------  --------\n",
            "  0  Ag    0.119054  0.798115  0.211887         0\n",
            "  1  Ag    0.880946  0.201885  0.788113         0\n",
            "  2  Ag    0.628666  0.794549  0.569877         0\n",
            "  3  Ag    0.371334  0.205451  0.430123         0\n",
            "  4  S     0.122835  0.710241  0.724342        -0\n",
            "  5  S     0.877165  0.289759  0.275658        -0\n",
            "  6  S     0.376137  0.300139  0.878688        -0\n",
            "  7  S     0.623863  0.699861  0.121312        -0\n",
            "  8  O     0.967297  0.616045  0.664371         0\n",
            "  9  O     0.032703  0.383955  0.335629         0\n",
            " 10  O     0.259156  0.81931   0.543656         0\n",
            " 11  O     0.740844  0.18069   0.456344         0\n",
            " 12  O     0.059217  0.838201  0.839178        -0\n",
            " 13  O     0.940783  0.161799  0.160822        -0\n",
            " 14  O     0.250923  0.506061  0.908994         0\n",
            " 15  O     0.749077  0.493939  0.091006         0\n",
            " 16  O     0.399804  0.141428  0.101656         0\n",
            " 17  O     0.600196  0.858572  0.898344         0\n",
            " 18  O     0.250743  0.237917  0.754549         0\n",
            " 19  O     0.749257  0.762083  0.245451         0\n",
            " 20  O     0.555757  0.393096  0.765135         0\n",
            " 21  O     0.444243  0.606904  0.234865         0\n"
          ]
        },
        {
          "output_type": "execute_result",
          "data": {
            "text/plain": [
              "\"# generated using pymatgen\\ndata_Ag2S2O7\\n_symmetry_space_group_name_H-M   'P 1'\\n_cell_length_a   6.80650232\\n_cell_length_b   6.74884302\\n_cell_length_c   6.90829982\\n_cell_angle_alpha   63.53550696\\n_cell_angle_beta   87.04559490\\n_cell_angle_gamma   85.08586855\\n_symmetry_Int_Tables_number   1\\n_chemical_formula_structural   Ag2S2O7\\n_chemical_formula_sum   'Ag4 S4 O14'\\n_cell_volume   283.00992986\\n_cell_formula_units_Z   2\\nloop_\\n _symmetry_equiv_pos_site_id\\n _symmetry_equiv_pos_as_xyz\\n  1  'x, y, z'\\nloop_\\n _atom_site_type_symbol\\n _atom_site_label\\n _atom_site_symmetry_multiplicity\\n _atom_site_fract_x\\n _atom_site_fract_y\\n _atom_site_fract_z\\n _atom_site_occupancy\\n  Ag  Ag0  1  0.11905420  0.79811509  0.21188672  1\\n  Ag  Ag1  1  0.88094580  0.20188491  0.78811328  1\\n  Ag  Ag2  1  0.62866600  0.79454946  0.56987659  1\\n  Ag  Ag3  1  0.37133400  0.20545054  0.43012341  1\\n  S  S4  1  0.12283529  0.71024099  0.72434232  1\\n  S  S5  1  0.87716471  0.28975901  0.27565768  1\\n  S  S6  1  0.37613680  0.30013877  0.87868754  1\\n  S  S7  1  0.62386320  0.69986123  0.12131246  1\\n  O  O8  1  0.96729729  0.61604485  0.66437130  1\\n  O  O9  1  0.03270271  0.38395515  0.33562870  1\\n  O  O10  1  0.25915576  0.81931037  0.54365635  1\\n  O  O11  1  0.74084424  0.18068963  0.45634365  1\\n  O  O12  1  0.05921715  0.83820080  0.83917772  1\\n  O  O13  1  0.94078285  0.16179920  0.16082228  1\\n  O  O14  1  0.25092257  0.50606137  0.90899429  1\\n  O  O15  1  0.74907743  0.49393863  0.09100571  1\\n  O  O16  1  0.39980394  0.14142786  0.10165640  1\\n  O  O17  1  0.60019606  0.85857214  0.89834360  1\\n  O  O18  1  0.25074333  0.23791741  0.75454861  1\\n  O  O19  1  0.74925667  0.76208259  0.24545139  1\\n  O  O20  1  0.55575712  0.39309630  0.76513532  1\\n  O  O21  1  0.44424288  0.60690370  0.23486468  1\\n\""
            ],
            "application/vnd.google.colaboratory.intrinsic+json": {
              "type": "string"
            }
          },
          "metadata": {},
          "execution_count": 12
        }
      ]
    }
  ]
}