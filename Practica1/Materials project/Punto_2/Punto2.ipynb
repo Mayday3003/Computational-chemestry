{
  "nbformat": 4,
  "nbformat_minor": 0,
  "metadata": {
    "colab": {
      "provenance": []
    },
    "kernelspec": {
      "name": "python3",
      "display_name": "Python 3"
    },
    "language_info": {
      "name": "python"
    }
  },
  "cells": [
    {
      "cell_type": "markdown",
      "source": [
        "| Red de Bravais | mp-ID      | Fórmula   | Grupo espacial | Notación H-M |\n",
        "| -------------- | ---------- | --------- | -------------- | ------------ |\n",
        "| Triclínico     | mp-1192057 | Ag₂S₂O₇   | 2              | P-1          |\n",
        "| Monoclínico    | mp-29607   | Ag(TeMo)6 | 12             | C2/m         |\n",
        "| Ortorrómbico   | mp-9900    | Ag₂GeS₃   | 36             | Cmc2\\_1      |\n",
        "| Cúbico         | mp-862849  | Ac₂NiIr   | 225            | Fm-3m        |\n"
      ],
      "metadata": {
        "id": "s-3nRihnzPkx"
      }
    }
  ]
}