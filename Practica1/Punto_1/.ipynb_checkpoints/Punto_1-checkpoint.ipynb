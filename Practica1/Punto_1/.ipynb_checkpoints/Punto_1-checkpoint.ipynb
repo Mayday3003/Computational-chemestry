{
  "nbformat": 4,
  "nbformat_minor": 0,
  "metadata": {
    "colab": {
      "provenance": []
    },
    "kernelspec": {
      "name": "python3",
      "display_name": "Python 3"
    },
    "language_info": {
      "name": "python"
    }
  },
  "cells": [
    {
      "cell_type": "markdown",
      "source": [
        "# Simetría de la molécula de agua (H₂O)\n",
        "\n",
        "**Elementos de simetría que tiene:**\n",
        "\n",
        "- **E** — Identidad (siempre está).\n",
        "- **C₂**  Eje de rotación con $n=2$. Ángulo = $360^\\circ / 2 = 180^\\circ$\n",
        "(No tiene C mayores)\n",
        "- **σᵥ** . Tiene 2\n",
        "\n",
        "**No tiene:** centro de inversión (i), ejes de orden > 2, ni rotoinversión (Sₙ).\n"
      ],
      "metadata": {
        "id": "Uy5g8pxSuoph"
      }
    },
    {
      "cell_type": "markdown",
      "source": [
        "I. Simetría molecular del agua (H₂O)\n",
        "\n",
        "La identidad siempre está presente en cualquier molécula.\n",
        "\n",
        "Eje de rotación C₂ (rotación 180°)\n",
        "\n",
        "Existe un eje de rotación de orden 2 que pasa por el átomo de Oxigeno y es perpendicular al plano de la molécula\n",
        "\n",
        "\n",
        "Plano de simetría σ_v (plano molecular, “xz”)\n",
        "\n",
        "La molécula de agua está plana: los tres átomos (O, H₁, H₂) están en un mismo plano. Ese plano es un plano de simetría vertical (σ_v) que contiene al eje C₂ y a todos los átomos.\n",
        "\n",
        "Reflejar respecto a ese plano  deja cada átomo en su posición — es una operación de reflexión válida\n",
        "\n",
        "Plano de simetría σ_v' (plano que biseca el ángulo H–O–H)\n",
        "\n",
        "Hay otro plano de simetría que también contiene el eje C₂ pero es perpendicular al plano molecular y biseca el ángulo H–O–H. En la proyección 2D lo dibujé como la línea vertical x=0.\n",
        "\n",
        "La reflexión en ese plano intercambia H₁ ↔ H₂ mientras deja O fijo. Por eso es una operación de simetría válida.\n",
        "\n",
        "Centro de inversión (i): No hay\n",
        "\n",
        "\n",
        "\n",
        "\n",
        "b) Determinación del grupo puntual y explicación paso a paso\n",
        "\n",
        "\n",
        "\n",
        "- ¿Hay un eje de rotación C_n con n > 2?\n",
        "\n",
        "No, solo se tiene el C_2 y el C_1\n",
        "\n",
        "- ¿Hay un eje principal C_n (aquí C₂) y existen ejes C₂ secundarios perpendiculares a él?\n",
        "\n",
        "No.\n",
        "- ¿Hay planos de reflexión σ que contienen el eje principal?\n",
        "\n",
        "Sí: existen dos planos σ_v que contienen el eje C₂: (1)\n",
        "\n",
        "\n",
        "- ¿Hay inversión u otras operaciones que sugieran un grupo distinto (por ejemplo C₂h, etc.)?\n",
        "\n",
        "No.\n",
        "\n",
        "**Grupo puntual C₂v.**\n",
        "\n",
        "\n"
      ],
      "metadata": {
        "id": "UYSEIy1wsrEP"
      }
    }
  ]
}