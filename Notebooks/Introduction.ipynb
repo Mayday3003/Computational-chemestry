{
 "cells": [
  {
   "cell_type": "markdown",
   "id": "1e30b091",
   "metadata": {},
   "source": [
    "# Evaluación del curso \n",
    "\n",
    "- Conceptos -> 10%\n",
    "- Prácticas computacionales -> 50% - 5 prácticas del 10%\n",
    "- Exposición -> 15%\n",
    "\n",
    "---\n",
    "\n",
    "Final -> 25% -> seminario  \n",
    "        -15% exposición \n",
    "        - 10% escrito "
   ]
  }
 ],
 "metadata": {
  "language_info": {
   "name": "python"
  }
 },
 "nbformat": 4,
 "nbformat_minor": 5
}
