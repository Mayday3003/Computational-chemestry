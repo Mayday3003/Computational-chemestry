{
 "cells": [
  {
   "cell_type": "markdown",
   "id": "c8759548",
   "metadata": {},
   "source": [
    "# Inorganic & General Chemistry Concepts\n",
    "\n",
    "This Jupyter notebook defines, develops, and explains key concepts from the provided lecture slides.\n",
    "It includes images (via external links), definitions, and examples."
   ]
  },
  {
   "cell_type": "markdown",
   "id": "cda7f42b",
   "metadata": {},
   "source": [
    "## Branches of Chemistry\n",
    "\n",
    "**Definition:** Chemistry is traditionally divided into distinct branches based on subject matter:\n",
    "- **Organic Chemistry:** Study of carbon-containing compounds.\n",
    "- **Inorganic Chemistry:** Study of compounds lacking C–H bonds, including metals and minerals.\n",
    "- **Physical Chemistry:** Principles and methods of physics applied to chemical systems.\n",
    "- **Analytical Chemistry:** Techniques for analyzing chemical composition.\n",
    "- **Biochemistry:** Chemistry of living systems.\n",
    "\n",
    "**Updated view:** Chemistry as a central science connects multiple fields.\n",
    "\n",
    "![Chemistry as Central Science](https://chem.libretexts.org/@api/deki/files/46747/99.gif)"
   ]
  },
  {
   "cell_type": "markdown",
   "id": "378b8b77",
   "metadata": {},
   "source": [
    "## Inorganic Chemistry\n",
    "\n",
    "**Definition:** Inorganic chemistry deals with synthesis and behavior of inorganic and organometallic compounds. It covers compounds not primarily carbon-based and overlaps with organometallic chemistry.\n",
    "\n",
    "**Examples:**\n",
    "- Iron pentacarbonyl `Fe(CO)_5`\n",
    "- Tris(triphenylphosphine)rhodium carbonyl hydride `RhCl(CO)(PPh_3)_3`\n",
    "\n",
    "**Applications:** Catalysis, materials science, pigments, surfactants, fuels, agriculture."
   ]
  },
  {
   "cell_type": "markdown",
   "id": "de19ded1",
   "metadata": {},
   "source": [
    "## Scales in Chemical Systems\n",
    "\n",
    "Chemical phenomena occur across multiple length and time scales, influencing choice of methods:\n",
    "- **Macroscopic:** Bulk behavior, lab-scale reactions.\n",
    "- **Microscopic (Atomic):** Individual atoms, electron distributions.\n",
    "- **Nano & Pico:** Nanoparticles, molecular dynamics.\n",
    "\n",
    "![Time vs Length Scale](https://www.researchgate.net/profile/G-Isermann/publication/343746210/figure/fig1/AS:981549597799040@1610663992442/Time-scale-vs-Length-scale-representation-of-various-simulation-methods-applied-to-study_Q640.jpg)"
   ]
  },
  {
   "cell_type": "markdown",
   "id": "008a75e4",
   "metadata": {},
   "source": [
    "## Atomic Models\n",
    "\n",
    "1. **Thomson’s Plum Pudding Model (1904):** Electrons embedded in positive 'pudding'.\n",
    "2. **Rutherford Model (1911):** Dense positive nucleus with electrons orbiting.\n",
    "3. **Bohr Model (1913):** Quantized electron orbits; energy levels.\n",
    "4. **Quantum Mechanical Model:** Electron described by Schrödinger equation (ψ-functions).\n",
    "\n",
    "Schrödinger Equation:\n",
    "$$ \\hat{H} \\Psi = E \\Psi $$"
   ]
  },
  {
   "cell_type": "markdown",
   "id": "856180f1",
   "metadata": {},
   "source": [
    "## Periodic Table & Trends\n",
    "\n",
    "The periodic table organizes elements by atomic number and properties. Key trends:\n",
    "- **Atomic Radius**: Increases down a group, decreases across a period.\n",
    "- **Ionization Energy**: Opposite of radius trends.\n",
    "- **Electronegativity**: Ability to attract electrons.\n",
    "\n",
    "Interactive table available at [ptable.com](https://ptable.com)."
   ]
  },
  {
   "cell_type": "markdown",
   "id": "3399e281",
   "metadata": {},
   "source": [
    "## Chemical Bonding\n",
    "\n",
    "**Types of Bonds:**\n",
    "- **Ionic:** Electrostatic attraction between ions.\n",
    "- **Covalent:** Shared electron pairs (Lewis structures).\n",
    "- **Metallic:** Delocalized electrons in metal lattice.\n",
    "\n",
    "**Example Code:** Generate an H2O molecule structure using ASE."
   ]
  },
  {
   "cell_type": "code",
   "execution_count": 3,
   "id": "884ffac4",
   "metadata": {},
   "outputs": [
    {
     "name": "stdout",
     "output_type": "stream",
     "text": [
      "Atoms(symbols='OH2', pbc=False)\n"
     ]
    },
    {
     "data": {
      "text/plain": [
       "<Popen: returncode: None args: ['/home/mayday/miniconda3/envs/chem/bin/pytho...>"
      ]
     },
     "execution_count": 3,
     "metadata": {},
     "output_type": "execute_result"
    }
   ],
   "source": [
    "from ase import Atoms\n",
    "from ase.visualize import view\n",
    "\n",
    "# Define H2O molecule\n",
    "h2o = Atoms('OHH', positions=[(0, 0, 0), (0.96, 0, 0), (-0.24, 0.93, 0)])\n",
    "print(h2o)\n",
    "view(h2o)  # Uncomment to visualize in JupyterLab"
   ]
  },
  {
   "cell_type": "markdown",
   "id": "41023cfb",
   "metadata": {},
   "source": [
    "# Unidades de medidas\n",
    "$10^-3$ m: mili\n",
    "\n",
    "$10^-6 \\mu$ micro \n",
    "\n",
    "$10^-10$ Amstrong \n",
    "\n",
    "$10^-12$ picometros"
   ]
  },
  {
   "cell_type": "markdown",
   "id": "b6215449",
   "metadata": {},
   "source": [
    "## Acknowledgements\n",
    "\n",
    "This notebook was generated with assistance from OpenAI’s ChatGPT.\n",
    "Concepts and images are adapted from:\n",
    "- *Introduction* slides (Carlos Jiménez, PhD) \n",
    "- *Chemistry Conceptualization* slides (Carlos Jiménez, PhD) "
   ]
  }
 ],
 "metadata": {
  "kernelspec": {
   "display_name": "chem",
   "language": "python",
   "name": "python3"
  },
  "language_info": {
   "codemirror_mode": {
    "name": "ipython",
    "version": 3
   },
   "file_extension": ".py",
   "mimetype": "text/x-python",
   "name": "python",
   "nbconvert_exporter": "python",
   "pygments_lexer": "ipython3",
   "version": "3.13.5"
  }
 },
 "nbformat": 4,
 "nbformat_minor": 5
}
