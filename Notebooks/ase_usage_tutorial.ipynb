{
 "cells": [
  {
   "cell_type": "markdown",
   "id": "e2084b87",
   "metadata": {},
   "source": [
    "# ASE Usage Tutorial\n",
    "\n",
    "This notebook demonstrates how to create atomistic instances, visualize structures, and perform basic operations using the Atomic Simulation Environment (ASE)."
   ]
  },
  {
   "cell_type": "markdown",
   "id": "ffa55380",
   "metadata": {},
   "source": [
    "## Installation & Imports\n",
    "\n",
    "Ensure ASE is installed in your environment (`chem`):\n",
    "```bash\n",
    "conda activate chem\n",
    "conda install -c conda-forge ase\n",
    "```"
   ]
  },
  {
   "cell_type": "code",
   "execution_count": null,
   "id": "d57aae49",
   "metadata": {},
   "outputs": [],
   "source": [
    "from ase import Atoms, build, ios\n",
    "from ase.visualize import view\n",
    "from ase.calculators.lj import LennardJones\n"
   ]
  },
  {
   "cell_type": "markdown",
   "id": "786e61a1",
   "metadata": {},
   "source": [
    "## Creating `Atoms` Instances\n",
    "\n",
    "### Single Atom\n",
    "```python\n",
    "h = Atoms('H', positions=[(0, 0, 0)])\n",
    "print(h)\n",
    "```\n",
    "\n",
    "### Molecule (H₂O)\n",
    "```python\n",
    "water = Atoms('OHH', positions=[(0, 0, 0), (0.96, 0, 0), (-0.24, 0.93, 0)])\n",
    "print(water)\n",
    "```\n",
    "\n",
    "### Bulk Structure (fcc Aluminum)\n",
    "```python\n",
    "al = build.bulk('Al', 'fcc', a=4.05)\n",
    "print(al)\n",
    "```"
   ]
  },
  {
   "cell_type": "markdown",
   "id": "62618cdc",
   "metadata": {},
   "source": [
    "## Visualization\n",
    "\n",
    "Use ASE's built-in viewer to inspect structures:\n",
    "```python\n",
    "# Uncomment the view() calls to launch the GUI viewer\n",
    "view(h)\n",
    "view(water)\n",
    "view(al)\n",
    "```"
   ]
  },
  {
   "cell_type": "markdown",
   "id": "5027b85f",
   "metadata": {},
   "source": [
    "## Reading & Writing Files\n",
    "\n",
    "### Write to XYZ\n",
    "```python\n",
    "io.write('water.xyz', water)\n",
    "```  \n",
    "### Read from CIF (example)\n",
    "```python\n",
    "structure = io.read('example.cif')\n",
    "print(structure)\n",
    "```"
   ]
  },
  {
   "cell_type": "markdown",
   "id": "5a6256a6",
   "metadata": {},
   "source": [
    "## Using a Calculator (Lennard-Jones)\n",
    "\n",
    "Assign a simple Lennard-Jones potential and calculate energy:\n",
    "```python\n",
    "lj = LennardJones(epsilon=0.0103, sigma=3.4)\n",
    "water.set_calculator(lj)\n",
    "energy = water.get_potential_energy()\n",
    "print(f'Potential energy: {energy:.3f} eV')\n",
    "```"
   ]
  },
  {
   "cell_type": "markdown",
   "id": "c298b39b",
   "metadata": {},
   "source": [
    "## Geometry Optimization\n",
    "\n",
    "Perform a simple optimization using EMT or LJ (depending on availability):\n",
    "```python\n",
    "from ase.optimize import BFGS\n",
    "# Use Lennard-Jones calculator on Al\n",
    "al.set_calculator(lj)\n",
    "optimizer = BFGS(al)\n",
    "optimizer.run(fmax=0.05)\n",
    "print('Optimized cell:', al.get_cell())\n",
    "```"
   ]
  }
 ],
 "metadata": {
  "language_info": {
   "name": "python"
  }
 },
 "nbformat": 4,
 "nbformat_minor": 5
}
